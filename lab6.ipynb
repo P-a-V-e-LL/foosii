{
  "cells": [
    {
      "cell_type": "code",
      "execution_count": null,
      "metadata": {
        "id": "WyBpW92f6Ara",
        "scrolled": true
      },
      "outputs": [],
      "source": [
        "import numpy as np\n",
        "import cv2\n",
        "import os\n",
        "import string\n",
        "import matplotlib.pyplot as plt\n",
        "import tqdm\n",
        "from os.path import join\n",
        "from collections import Counter\n",
        "import re \n",
        "import io\n",
        "import copy\n",
        "from tensorflow.keras import layers\n",
        "import editdistance\n",
        "\n",
        "from tensorflow.keras.preprocessing.sequence import pad_sequences\n",
        "from tensorflow.keras import layers\n",
        "\n",
        "from tensorflow.keras.layers import Dense, LSTM,GRU, Reshape, BatchNormalization, Input, Conv2D, MaxPool2D, Lambda, Bidirectional\n",
        "from tensorflow.keras.models import Model\n",
        "from tensorflow.keras.activations import relu, sigmoid, softmax\n",
        "import tensorflow.keras.backend as K\n",
        "from tensorflow.keras.utils import to_categorical\n",
        "from tensorflow.keras.callbacks import ModelCheckpoint"
      ]
    },
    {
      "cell_type": "markdown",
      "metadata": {
        "id": "8IrB4mbt9xOP"
      },
      "source": [
        "Бейзлайн запускался на машине со следующими версиями библиотек."
      ]
    },
    {
      "cell_type": "code",
      "source": [
        "import keras\n",
        "import tensorflow as tf"
      ],
      "metadata": {
        "id": "kd-rxU0gOPUW"
      },
      "execution_count": null,
      "outputs": []
    },
    {
      "cell_type": "code",
      "source": [
        "!wget -c https://storage.yandexcloud.net/datasouls-ods/materials/46b7bb85/datasets.zip"
      ],
      "metadata": {
        "colab": {
          "base_uri": "https://localhost:8080/"
        },
        "id": "v06_a0HTObOB",
        "outputId": "1b1d302b-0556-47fa-dc4e-a93c94b52238"
      },
      "execution_count": null,
      "outputs": [
        {
          "output_type": "stream",
          "name": "stdout",
          "text": [
            "--2023-01-14 12:59:31--  https://storage.yandexcloud.net/datasouls-ods/materials/46b7bb85/datasets.zip\n",
            "Resolving storage.yandexcloud.net (storage.yandexcloud.net)... 213.180.193.243, 2a02:6b8::1d9\n",
            "Connecting to storage.yandexcloud.net (storage.yandexcloud.net)|213.180.193.243|:443... connected.\n",
            "HTTP request sent, awaiting response... 200 OK\n",
            "Length: 640106308 (610M) [application/zip]\n",
            "Saving to: ‘datasets.zip’\n",
            "\n",
            "datasets.zip        100%[===================>] 610.45M  9.03MB/s    in 64s     \n",
            "\n",
            "2023-01-14 13:00:37 (9.56 MB/s) - ‘datasets.zip’ saved [640106308/640106308]\n",
            "\n"
          ]
        }
      ]
    },
    {
      "cell_type": "code",
      "source": [
        "!mkdir aij_data\n",
        "\n",
        "import zipfile\n",
        "\n",
        "with zipfile.ZipFile(\"datasets.zip\", \"r\") as f:\n",
        "    f.extractall(\"aij_data\")"
      ],
      "metadata": {
        "id": "AWtDUjG8OfLa"
      },
      "execution_count": null,
      "outputs": []
    },
    {
      "cell_type": "code",
      "source": [
        "trans_dir = 'aij_data/train/words'\n",
        "image_dir = 'aij_data/train/images'\n",
        "\n",
        "print(len(os.listdir(trans_dir)))"
      ],
      "metadata": {
        "colab": {
          "base_uri": "https://localhost:8080/"
        },
        "id": "MreXjTDvPGu6",
        "outputId": "56650835-86b7-4ae1-db38-9592c8c4ee5b"
      },
      "execution_count": null,
      "outputs": [
        {
          "output_type": "stream",
          "name": "stdout",
          "text": [
            "6196\n"
          ]
        }
      ]
    },
    {
      "cell_type": "code",
      "source": [
        "import os\n",
        "from collections import Counter\n",
        "\n",
        "english = ['a', 'b', 'c', 'd', 'e', 'f', 'g', 'h', 'm', 'n' ,'o', 'p', 'r', 's', 't', 'u', 'w']\n",
        "\n",
        "def process_texts(image_dir, trans_dir):\n",
        "    lens = []\n",
        "    include_english = 0\n",
        "    letters = ''\n",
        "\n",
        "    lines = []\n",
        "    names = []\n",
        "    \n",
        "    all_files = os.listdir(trans_dir)\n",
        "    for filename in os.listdir(image_dir):\n",
        "        if filename[:-3]+'txt' in all_files:\n",
        "            name, ext = os.path.splitext(filename)\n",
        "            txt_filepath = os.path.join(trans_dir, name + '.txt')\n",
        "            with open(txt_filepath, 'r') as file:\n",
        "                data = file.read()\n",
        "                if len(data)==0:\n",
        "                    continue\n",
        "                if len(set(data).intersection(english))>0:\n",
        "                    continue\n",
        "\n",
        "                lines.append(data)\n",
        "                names.append(filename)\n",
        "                lens.append(len(data))\n",
        "                letters += data\n",
        "\n",
        "    print('Максимальная длина строки:', max(lens))\n",
        "    print('Количество строк с английскими буквами ', include_english)\n",
        "\n",
        "    return names, lines, Counter(letters)"
      ],
      "metadata": {
        "id": "Tda3a6SG2w1i"
      },
      "execution_count": null,
      "outputs": []
    },
    {
      "cell_type": "code",
      "execution_count": null,
      "metadata": {
        "id": "9-QvpNRE9xOa"
      },
      "outputs": [],
      "source": [
        "example = os.listdir(image_dir)[0]"
      ]
    },
    {
      "cell_type": "code",
      "execution_count": null,
      "metadata": {
        "colab": {
          "base_uri": "https://localhost:8080/",
          "height": 98
        },
        "id": "kowS0jD09xOb",
        "outputId": "6e6dc32e-b4d6-469b-aec9-aaa381d3bc48"
      },
      "outputs": [
        {
          "output_type": "display_data",
          "data": {
            "text/plain": [
              "<Figure size 432x288 with 1 Axes>"
            ],
            "image/png": "[encoded data removed]"
          },
          "metadata": {
            "needs_background": "light"
          }
        }
      ],
      "source": [
        "img = plt.imread(image_dir+'/'+example)\n",
        "plt.imshow(img)\n",
        "plt.show()"
      ]
    },
    {
      "cell_type": "code",
      "execution_count": null,
      "metadata": {
        "scrolled": true,
        "colab": {
          "base_uri": "https://localhost:8080/"
        },
        "id": "3y8KSrNh9xOf",
        "outputId": "7b4435dd-88cd-469c-a364-9eaa886b6d8e"
      },
      "outputs": [
        {
          "output_type": "stream",
          "name": "stdout",
          "text": [
            "дабы вы поспѣшили к нам сего\n"
          ]
        }
      ],
      "source": [
        "with io.open(trans_dir+'/'+example[:-3]+'txt', 'r',  encoding='utf8') as file:\n",
        "    data = file.read()\n",
        "\n",
        "print(data)"
      ]
    },
    {
      "cell_type": "code",
      "execution_count": null,
      "metadata": {
        "id": "yqjINIYw9xOh"
      },
      "outputs": [],
      "source": [
        "#def text_to_labels(text):\n",
        "#    return list(map(lambda x: letters.index(x), text))"
      ]
    },
    {
      "cell_type": "code",
      "execution_count": null,
      "metadata": {
        "colab": {
          "base_uri": "https://localhost:8080/"
        },
        "id": "ue373IAG9xOj",
        "outputId": "334ac292-0eb5-4848-88c6-630b2b37b004"
      },
      "outputs": [
        {
          "output_type": "stream",
          "name": "stdout",
          "text": [
            "Максимальная длина строки: 71\n",
            "Количество строк с английскими буквами  0\n"
          ]
        }
      ],
      "source": [
        "names,lines,cnt = process_texts(image_dir,trans_dir)"
      ]
    },
    {
      "cell_type": "code",
      "execution_count": null,
      "metadata": {
        "colab": {
          "base_uri": "https://localhost:8080/"
        },
        "id": "QfGgsyqG9xOk",
        "outputId": "50ea926d-c70d-409b-cb9f-c23bed6a0f3b"
      },
      "outputs": [
        {
          "output_type": "stream",
          "name": "stdout",
          "text": [
            "Символы train:   ) + / 0 1 2 3 4 5 6 7 8 9 [ ] i k l | × ǂ а б в г д е ж з и й к л м н о п р с т у ф х ц ч ш щ ъ ы ь э ю я і ѣ – … ⊕ ⊗\n"
          ]
        }
      ],
      "source": [
        "#letters = set(cnt.keys())\n",
        "\n",
        "#letters = sorted(list(letters))\n",
        "letters = sorted(list(cnt.keys()))\n",
        "print('Символы train:', ' '.join(letters))"
      ]
    },
    {
      "cell_type": "code",
      "source": [
        "import numpy as np\n",
        "import pandas as pd\n",
        "import random\n",
        "\n",
        "\n",
        "df = pd.DataFrame(lines, columns=[\"trg\"])\n",
        "\n",
        "def add_noise(text, symbols=letters, znam=4):\n",
        "    text = list(text)\n",
        "    num = len(text) // znam\n",
        "    indexes = random.sample(range(0, len(text)), num)\n",
        "    for i in indexes:\n",
        "        if text[i]!=' ':\n",
        "            text[i] = random.choice(symbols)\n",
        "        else:\n",
        "            del_space = np.random.choice([True, False], p=[0.3, 0.7])\n",
        "            if del_space:\n",
        "                text[i] = text[i].replace(\" \", \"\")\n",
        "    return ''.join(text)\n",
        "\n",
        "\n",
        "df[\"src\"] = [add_noise(t, znam=4) for t in df[\"trg\"].tolist()]"
      ],
      "metadata": {
        "id": "QG9TtN4b3h9U"
      },
      "execution_count": null,
      "outputs": []
    },
    {
      "cell_type": "code",
      "source": [
        "df.head()"
      ],
      "metadata": {
        "id": "ZvjFh1cV3h7I",
        "colab": {
          "base_uri": "https://localhost:8080/",
          "height": 206
        },
        "outputId": "13e24704-d33e-4c88-b0ab-9063a0e7f188"
      },
      "execution_count": null,
      "outputs": [
        {
          "output_type": "execute_result",
          "data": {
            "text/plain": [
              "                                               trg  \\\n",
              "0                     дабы вы поспѣшили к нам сего   \n",
              "1                                                +   \n",
              "2  писмо ваше чрез михеля получил на которое отвѣт   \n",
              "3                     вою грамоту i просит на оною   \n",
              "4                       до пятницы которого дня ра   \n",
              "\n",
              "                                               src  \n",
              "0                      мабо выпосп3ши]и к 7а[ сего  \n",
              "1                                                +  \n",
              "2  пифзо саше чkѣз ми⊗еля получил 5н коморое отвѣ   \n",
              "3                     вою грдмотн i |рос8т нч оноi  \n",
              "4                        до пк+ниця8от9рого дня ра  "
            ],
            "text/html": [
              "\n",
              "  <div id=\"df-24129356-a8b4-41c8-b07a-a8c2156044df\">\n",
              "    <div class=\"colab-df-container\">\n",
              "      <div>\n",
              "<style scoped>\n",
              "    .dataframe tbody tr th:only-of-type {\n",
              "        vertical-align: middle;\n",
              "    }\n",
              "\n",
              "    .dataframe tbody tr th {\n",
              "        vertical-align: top;\n",
              "    }\n",
              "\n",
              "    .dataframe thead th {\n",
              "        text-align: right;\n",
              "    }\n",
              "</style>\n",
              "<table border=\"1\" class=\"dataframe\">\n",
              "  <thead>\n",
              "    <tr style=\"text-align: right;\">\n",
              "      <th></th>\n",
              "      <th>trg</th>\n",
              "      <th>src</th>\n",
              "    </tr>\n",
              "  </thead>\n",
              "  <tbody>\n",
              "    <tr>\n",
              "      <th>0</th>\n",
              "      <td>дабы вы поспѣшили к нам сего</td>\n",
              "      <td>мабо выпосп3ши]и к 7а[ сего</td>\n",
              "    </tr>\n",
              "    <tr>\n",
              "      <th>1</th>\n",
              "      <td>+</td>\n",
              "      <td>+</td>\n",
              "    </tr>\n",
              "    <tr>\n",
              "      <th>2</th>\n",
              "      <td>писмо ваше чрез михеля получил на которое отвѣт</td>\n",
              "      <td>пифзо саше чkѣз ми⊗еля получил 5н коморое отвѣ</td>\n",
              "    </tr>\n",
              "    <tr>\n",
              "      <th>3</th>\n",
              "      <td>вою грамоту i просит на оною</td>\n",
              "      <td>вою грдмотн i |рос8т нч оноi</td>\n",
              "    </tr>\n",
              "    <tr>\n",
              "      <th>4</th>\n",
              "      <td>до пятницы которого дня ра</td>\n",
              "      <td>до пк+ниця8от9рого дня ра</td>\n",
              "    </tr>\n",
              "  </tbody>\n",
              "</table>\n",
              "</div>\n",
              "      <button class=\"colab-df-convert\" onclick=\"convertToInteractive('df-24129356-a8b4-41c8-b07a-a8c2156044df')\"\n",
              "              title=\"Convert this dataframe to an interactive table.\"\n",
              "              style=\"display:none;\">\n",
              "        \n",
              "  <svg xmlns=\"http://www.w3.org/2000/svg\" height=\"24px\"viewBox=\"0 0 24 24\"\n",
              "       width=\"24px\">\n",
              "    <path d=\"M0 0h24v24H0V0z\" fill=\"none\"/>\n",
              "    <path d=\"M18.56 5.44l.94 2.06.94-2.06 2.06-.94-2.06-.94-.94-2.06-.94 2.06-2.06.94zm-11 1L8.5 8.5l.94-2.06 2.06-.94-2.06-.94L8.5 2.5l-.94 2.06-2.06.94zm10 10l.94 2.06.94-2.06 2.06-.94-2.06-.94-.94-2.06-.94 2.06-2.06.94z\"/><path d=\"M17.41 7.96l-1.37-1.37c-.4-.4-.92-.59-1.43-.59-.52 0-1.04.2-1.43.59L10.3 9.45l-7.72 7.72c-.78.78-.78 2.05 0 2.83L4 21.41c.39.39.9.59 1.41.59.51 0 1.02-.2 1.41-.59l7.78-7.78 2.81-2.81c.8-.78.8-2.07 0-2.86zM5.41 20L4 18.59l7.72-7.72 1.47 1.35L5.41 20z\"/>\n",
              "  </svg>\n",
              "      </button>\n",
              "      \n",
              "  <style>\n",
              "    .colab-df-container {\n",
              "      display:flex;\n",
              "      flex-wrap:wrap;\n",
              "      gap: 12px;\n",
              "    }\n",
              "\n",
              "    .colab-df-convert {\n",
              "      background-color: #E8F0FE;\n",
              "      border: none;\n",
              "      border-radius: 50%;\n",
              "      cursor: pointer;\n",
              "      display: none;\n",
              "      fill: #1967D2;\n",
              "      height: 32px;\n",
              "      padding: 0 0 0 0;\n",
              "      width: 32px;\n",
              "    }\n",
              "\n",
              "    .colab-df-convert:hover {\n",
              "      background-color: #E2EBFA;\n",
              "      box-shadow: 0px 1px 2px rgba(60, 64, 67, 0.3), 0px 1px 3px 1px rgba(60, 64, 67, 0.15);\n",
              "      fill: #174EA6;\n",
              "    }\n",
              "\n",
              "    [theme=dark] .colab-df-convert {\n",
              "      background-color: #3B4455;\n",
              "      fill: #D2E3FC;\n",
              "    }\n",
              "\n",
              "    [theme=dark] .colab-df-convert:hover {\n",
              "      background-color: #434B5C;\n",
              "      box-shadow: 0px 1px 3px 1px rgba(0, 0, 0, 0.15);\n",
              "      filter: drop-shadow(0px 1px 2px rgba(0, 0, 0, 0.3));\n",
              "      fill: #FFFFFF;\n",
              "    }\n",
              "  </style>\n",
              "\n",
              "      <script>\n",
              "        const buttonEl =\n",
              "          document.querySelector('#df-24129356-a8b4-41c8-b07a-a8c2156044df button.colab-df-convert');\n",
              "        buttonEl.style.display =\n",
              "          google.colab.kernel.accessAllowed ? 'block' : 'none';\n",
              "\n",
              "        async function convertToInteractive(key) {\n",
              "          const element = document.querySelector('#df-24129356-a8b4-41c8-b07a-a8c2156044df');\n",
              "          const dataTable =\n",
              "            await google.colab.kernel.invokeFunction('convertToInteractive',\n",
              "                                                     [key], {});\n",
              "          if (!dataTable) return;\n",
              "\n",
              "          const docLinkHtml = 'Like what you see? Visit the ' +\n",
              "            '<a target=\"_blank\" href=https://colab.research.google.com/notebooks/data_table.ipynb>data table notebook</a>'\n",
              "            + ' to learn more about interactive tables.';\n",
              "          element.innerHTML = '';\n",
              "          dataTable['output_type'] = 'display_data';\n",
              "          await google.colab.output.renderOutput(dataTable, element);\n",
              "          const docLink = document.createElement('div');\n",
              "          docLink.innerHTML = docLinkHtml;\n",
              "          element.appendChild(docLink);\n",
              "        }\n",
              "      </script>\n",
              "    </div>\n",
              "  </div>\n",
              "  "
            ]
          },
          "metadata": {},
          "execution_count": 13
        }
      ]
    },
    {
      "cell_type": "code",
      "source": [
        "!python -m pip install --quiet keras-transformer"
      ],
      "metadata": {
        "colab": {
          "base_uri": "https://localhost:8080/"
        },
        "id": "pbKy3N1U3h4v",
        "outputId": "e4671036-2172-4185-cd5f-d822b0f41897"
      },
      "execution_count": null,
      "outputs": [
        {
          "output_type": "stream",
          "name": "stdout",
          "text": [
            "  Preparing metadata (setup.py) ... \u001b[?25l\u001b[?25hdone\n",
            "  Preparing metadata (setup.py) ... \u001b[?25l\u001b[?25hdone\n",
            "  Preparing metadata (setup.py) ... \u001b[?25l\u001b[?25hdone\n",
            "  Preparing metadata (setup.py) ... \u001b[?25l\u001b[?25hdone\n",
            "  Preparing metadata (setup.py) ... \u001b[?25l\u001b[?25hdone\n",
            "  Preparing metadata (setup.py) ... \u001b[?25l\u001b[?25hdone\n",
            "  Preparing metadata (setup.py) ... \u001b[?25l\u001b[?25hdone\n",
            "  Building wheel for keras-transformer (setup.py) ... \u001b[?25l\u001b[?25hdone\n",
            "  Building wheel for keras-embed-sim (setup.py) ... \u001b[?25l\u001b[?25hdone\n",
            "  Building wheel for keras-layer-normalization (setup.py) ... \u001b[?25l\u001b[?25hdone\n",
            "  Building wheel for keras-multi-head (setup.py) ... \u001b[?25l\u001b[?25hdone\n",
            "  Building wheel for keras-pos-embd (setup.py) ... \u001b[?25l\u001b[?25hdone\n",
            "  Building wheel for keras-position-wise-feed-forward (setup.py) ... \u001b[?25l\u001b[?25hdone\n",
            "  Building wheel for keras-self-attention (setup.py) ... \u001b[?25l\u001b[?25hdone\n"
          ]
        }
      ]
    },
    {
      "cell_type": "code",
      "source": [
        "from sklearn.model_selection import train_test_split\n",
        "\n",
        "train_df, test_df = train_test_split(df, train_size=0.9, shuffle=True)"
      ],
      "metadata": {
        "id": "-pUCKIkA3h2k"
      },
      "execution_count": null,
      "outputs": []
    },
    {
      "cell_type": "code",
      "source": [
        "def build_token_dict(text_list):\n",
        "    token_dict = {\n",
        "        '<PAD>': 0,\n",
        "        '<START>': 1,\n",
        "        '<END>': 2,\n",
        "    }\n",
        "    for text in tqdm.tqdm(text_list, total=len(text_list)):\n",
        "        for token in text:\n",
        "            if token not in token_dict:\n",
        "                token_dict[token] = len(token_dict)\n",
        "    return token_dict\n",
        "\n",
        "def tokenize(text):\n",
        "    return list(text)\n",
        "\n",
        "def prepare_data(df, source_token_dict, target_token_dict):\n",
        "    df[\"src_tok\"] = df[\"src\"].apply(tokenize)\n",
        "    df[\"trg_tok\"] = df[\"trg\"].apply(tokenize)\n",
        "\n",
        "    source_tokens = df[\"src_tok\"].tolist()\n",
        "    target_tokens = df[\"trg_tok\"].tolist()\n",
        "\n",
        "    encode_tokens = [['<START>'] + tokens + ['<END>'] for tokens in source_tokens]\n",
        "    decode_tokens = [['<START>'] + tokens + ['<END>'] for tokens in target_tokens]\n",
        "    output_tokens = [tokens + ['<END>', '<PAD>'] for tokens in target_tokens]\n",
        "    \n",
        "    source_max_len = max(map(len, encode_tokens))\n",
        "    target_max_len = max(map(len, decode_tokens))\n",
        "    \n",
        "    encode_tokens = [tokens + ['<PAD>'] * (source_max_len - len(tokens)) for tokens in encode_tokens]\n",
        "    decode_tokens = [tokens + ['<PAD>'] * (target_max_len - len(tokens)) for tokens in decode_tokens]\n",
        "    output_tokens = [tokens + ['<PAD>'] * (target_max_len - len(tokens)) for tokens in output_tokens]\n",
        "    \n",
        "    encode_input = [list(map(lambda x: source_token_dict[x], tokens)) for tokens in encode_tokens]\n",
        "    decode_input = [list(map(lambda x: target_token_dict[x], tokens)) for tokens in decode_tokens]\n",
        "    decode_output = [list(map(lambda x: [target_token_dict[x]], tokens)) for tokens in output_tokens]\n",
        "    \n",
        "    return encode_input, decode_input, decode_output"
      ],
      "metadata": {
        "id": "_psj3riN3h0F"
      },
      "execution_count": null,
      "outputs": []
    },
    {
      "cell_type": "code",
      "source": [
        "tr_source_token_dict = build_token_dict(train_df.src.tolist())\n",
        "tr_target_token_dict = build_token_dict(train_df.trg.tolist())\n",
        "\n",
        "tr_target_token_dict_inv = {v: k for k, v in tr_target_token_dict.items()}\n",
        "tr_source_token_dict_inv = {v: k for k, v in tr_source_token_dict.items()}"
      ],
      "metadata": {
        "id": "fojBxA_B3hxq",
        "colab": {
          "base_uri": "https://localhost:8080/"
        },
        "outputId": "ce1c2322-5db3-414e-a93d-79932cd2af83"
      },
      "execution_count": null,
      "outputs": [
        {
          "output_type": "stream",
          "name": "stderr",
          "text": [
            "100%|██████████| 5494/5494 [00:00<00:00, 276815.50it/s]\n",
            "100%|██████████| 5494/5494 [00:00<00:00, 315854.85it/s]\n"
          ]
        }
      ]
    },
    {
      "cell_type": "code",
      "source": [
        "from keras.optimizers import Adam\n",
        "from keras_transformer import get_model\n",
        "import numpy as np\n",
        "\n",
        "\n",
        "EMBED_DIM = 512\n",
        "HIDDEN_DIM = 256\n",
        "HEAD_NUM = 4\n",
        "ENC_NUM = 3\n",
        "DEC_NUM = 3\n",
        "DROPOUT_RATE = 0.2\n",
        "LEARNING_RATE = 0.0001\n",
        "\n",
        "\n",
        "model = get_model(\n",
        "    token_num=max(len(tr_source_token_dict), len(tr_target_token_dict)),\n",
        "    embed_dim=EMBED_DIM,\n",
        "    encoder_num=ENC_NUM,\n",
        "    decoder_num=DEC_NUM,\n",
        "    head_num=HEAD_NUM,\n",
        "    hidden_dim=HIDDEN_DIM,\n",
        "    dropout_rate=DROPOUT_RATE,\n",
        "    use_same_embed=False,\n",
        ")\n",
        "\n",
        "model.compile(\n",
        "    optimizer=Adam(lr=LEARNING_RATE), loss='sparse_categorical_crossentropy'\n",
        ")"
      ],
      "metadata": {
        "id": "iJODo3CC3hvW"
      },
      "execution_count": null,
      "outputs": []
    },
    {
      "cell_type": "code",
      "source": [
        "BATCH_SIZE = 32\n",
        "EPOCH_NUM = 250\n",
        "\n",
        "encode_input, decode_input, decode_output = prepare_data(\n",
        "    train_df, tr_source_token_dict, tr_target_token_dict\n",
        ")\n",
        "\n",
        "model.fit(\n",
        "    x=[np.array(encode_input), np.array(decode_input)],\n",
        "    y=np.array(decode_output),\n",
        "    epochs=EPOCH_NUM,\n",
        "    batch_size=BATCH_SIZE,\n",
        "    verbose=2\n",
        ")"
      ],
      "metadata": {
        "id": "9A_EWK0o3hsq",
        "colab": {
          "base_uri": "https://localhost:8080/"
        },
        "outputId": "04b4cf8a-21db-4830-8f67-9bd6b0662ecb"
      },
      "execution_count": null,
      "outputs": [
        {
          "output_type": "stream",
          "name": "stdout",
          "text": [
            "Epoch 1/250\n",
            "172/172 - 28s - loss: 1.2974 - 28s/epoch - 164ms/step\n",
            "Epoch 2/250\n",
            "172/172 - 16s - loss: 1.2438 - 16s/epoch - 93ms/step\n",
            "Epoch 3/250\n",
            "172/172 - 15s - loss: 1.2284 - 15s/epoch - 88ms/step\n",
            "Epoch 4/250\n",
            "172/172 - 15s - loss: 1.2172 - 15s/epoch - 87ms/step\n",
            "Epoch 5/250\n",
            "172/172 - 15s - loss: 1.2117 - 15s/epoch - 87ms/step\n",
            "Epoch 6/250\n",
            "172/172 - 15s - loss: 1.2075 - 15s/epoch - 87ms/step\n",
            "Epoch 7/250\n",
            "172/172 - 15s - loss: 1.2034 - 15s/epoch - 88ms/step\n",
            "Epoch 8/250\n",
            "172/172 - 15s - loss: 1.2024 - 15s/epoch - 88ms/step\n",
            "Epoch 9/250\n",
            "172/172 - 15s - loss: 1.2003 - 15s/epoch - 88ms/step\n",
            "Epoch 10/250\n",
            "172/172 - 15s - loss: 1.1961 - 15s/epoch - 88ms/step\n",
            "Epoch 11/250\n",
            "172/172 - 15s - loss: 1.1783 - 15s/epoch - 88ms/step\n",
            "Epoch 12/250\n",
            "172/172 - 15s - loss: 1.0905 - 15s/epoch - 88ms/step\n",
            "Epoch 13/250\n",
            "172/172 - 15s - loss: 1.0383 - 15s/epoch - 88ms/step\n",
            "Epoch 14/250\n",
            "172/172 - 15s - loss: 1.0029 - 15s/epoch - 88ms/step\n",
            "Epoch 15/250\n",
            "172/172 - 15s - loss: 0.8598 - 15s/epoch - 88ms/step\n",
            "Epoch 16/250\n",
            "172/172 - 15s - loss: 0.6400 - 15s/epoch - 88ms/step\n",
            "Epoch 17/250\n",
            "172/172 - 15s - loss: 0.5065 - 15s/epoch - 88ms/step\n",
            "Epoch 18/250\n",
            "172/172 - 15s - loss: 0.4345 - 15s/epoch - 88ms/step\n",
            "Epoch 19/250\n",
            "172/172 - 15s - loss: 0.3958 - 15s/epoch - 88ms/step\n",
            "Epoch 20/250\n",
            "172/172 - 15s - loss: 0.3687 - 15s/epoch - 88ms/step\n",
            "Epoch 21/250\n",
            "172/172 - 15s - loss: 0.3632 - 15s/epoch - 88ms/step\n",
            "Epoch 22/250\n",
            "172/172 - 15s - loss: 0.3489 - 15s/epoch - 88ms/step\n",
            "Epoch 23/250\n",
            "172/172 - 15s - loss: 0.3476 - 15s/epoch - 88ms/step\n",
            "Epoch 24/250\n",
            "172/172 - 15s - loss: 0.3313 - 15s/epoch - 88ms/step\n",
            "Epoch 25/250\n",
            "172/172 - 15s - loss: 0.3178 - 15s/epoch - 88ms/step\n",
            "Epoch 26/250\n",
            "172/172 - 15s - loss: 0.3223 - 15s/epoch - 88ms/step\n",
            "Epoch 27/250\n",
            "172/172 - 15s - loss: 0.3089 - 15s/epoch - 88ms/step\n",
            "Epoch 28/250\n",
            "172/172 - 15s - loss: 0.3138 - 15s/epoch - 88ms/step\n",
            "Epoch 29/250\n",
            "172/172 - 15s - loss: 0.3115 - 15s/epoch - 88ms/step\n",
            "Epoch 30/250\n",
            "172/172 - 15s - loss: 0.2967 - 15s/epoch - 88ms/step\n",
            "Epoch 31/250\n",
            "172/172 - 15s - loss: 0.2869 - 15s/epoch - 88ms/step\n",
            "Epoch 32/250\n",
            "172/172 - 15s - loss: 0.2826 - 15s/epoch - 88ms/step\n",
            "Epoch 33/250\n",
            "172/172 - 15s - loss: 0.2872 - 15s/epoch - 88ms/step\n",
            "Epoch 34/250\n",
            "172/172 - 15s - loss: 0.2829 - 15s/epoch - 88ms/step\n",
            "Epoch 35/250\n",
            "172/172 - 15s - loss: 0.2731 - 15s/epoch - 88ms/step\n",
            "Epoch 36/250\n",
            "172/172 - 15s - loss: 0.2780 - 15s/epoch - 88ms/step\n",
            "Epoch 37/250\n",
            "172/172 - 15s - loss: 0.2964 - 15s/epoch - 88ms/step\n",
            "Epoch 38/250\n",
            "172/172 - 15s - loss: 0.2752 - 15s/epoch - 88ms/step\n",
            "Epoch 39/250\n",
            "172/172 - 15s - loss: 0.2714 - 15s/epoch - 88ms/step\n",
            "Epoch 40/250\n",
            "172/172 - 15s - loss: 0.2614 - 15s/epoch - 88ms/step\n",
            "Epoch 41/250\n",
            "172/172 - 15s - loss: 0.2596 - 15s/epoch - 88ms/step\n",
            "Epoch 42/250\n",
            "172/172 - 15s - loss: 0.2536 - 15s/epoch - 88ms/step\n",
            "Epoch 43/250\n",
            "172/172 - 15s - loss: 0.2525 - 15s/epoch - 88ms/step\n",
            "Epoch 44/250\n",
            "172/172 - 15s - loss: 0.2515 - 15s/epoch - 88ms/step\n",
            "Epoch 45/250\n",
            "172/172 - 15s - loss: 0.2698 - 15s/epoch - 88ms/step\n",
            "Epoch 46/250\n",
            "172/172 - 15s - loss: 0.2503 - 15s/epoch - 88ms/step\n",
            "Epoch 47/250\n",
            "172/172 - 15s - loss: 0.2444 - 15s/epoch - 88ms/step\n",
            "Epoch 48/250\n",
            "172/172 - 15s - loss: 0.2461 - 15s/epoch - 88ms/step\n",
            "Epoch 49/250\n",
            "172/172 - 15s - loss: 0.2343 - 15s/epoch - 88ms/step\n",
            "Epoch 50/250\n",
            "172/172 - 15s - loss: 0.2320 - 15s/epoch - 87ms/step\n",
            "Epoch 51/250\n",
            "172/172 - 15s - loss: 0.2289 - 15s/epoch - 88ms/step\n",
            "Epoch 52/250\n",
            "172/172 - 15s - loss: 0.2262 - 15s/epoch - 88ms/step\n",
            "Epoch 53/250\n",
            "172/172 - 15s - loss: 0.2294 - 15s/epoch - 88ms/step\n",
            "Epoch 54/250\n",
            "172/172 - 15s - loss: 0.2232 - 15s/epoch - 88ms/step\n",
            "Epoch 55/250\n",
            "172/172 - 15s - loss: 0.2204 - 15s/epoch - 88ms/step\n",
            "Epoch 56/250\n",
            "172/172 - 15s - loss: 0.2174 - 15s/epoch - 87ms/step\n",
            "Epoch 57/250\n",
            "172/172 - 15s - loss: 0.2152 - 15s/epoch - 88ms/step\n",
            "Epoch 58/250\n",
            "172/172 - 15s - loss: 0.2250 - 15s/epoch - 88ms/step\n",
            "Epoch 59/250\n",
            "172/172 - 15s - loss: 0.2162 - 15s/epoch - 88ms/step\n",
            "Epoch 60/250\n",
            "172/172 - 15s - loss: 0.2075 - 15s/epoch - 88ms/step\n",
            "Epoch 61/250\n",
            "172/172 - 15s - loss: 0.2030 - 15s/epoch - 88ms/step\n",
            "Epoch 62/250\n",
            "172/172 - 15s - loss: 0.2055 - 15s/epoch - 88ms/step\n",
            "Epoch 63/250\n",
            "172/172 - 15s - loss: 0.1973 - 15s/epoch - 88ms/step\n",
            "Epoch 64/250\n",
            "172/172 - 15s - loss: 0.1948 - 15s/epoch - 88ms/step\n",
            "Epoch 65/250\n",
            "172/172 - 15s - loss: 0.1958 - 15s/epoch - 87ms/step\n",
            "Epoch 66/250\n",
            "172/172 - 15s - loss: 0.1937 - 15s/epoch - 87ms/step\n",
            "Epoch 67/250\n",
            "172/172 - 15s - loss: 0.1919 - 15s/epoch - 88ms/step\n",
            "Epoch 68/250\n",
            "172/172 - 15s - loss: 0.1862 - 15s/epoch - 88ms/step\n",
            "Epoch 69/250\n",
            "172/172 - 15s - loss: 0.1818 - 15s/epoch - 88ms/step\n",
            "Epoch 70/250\n",
            "172/172 - 15s - loss: 0.1846 - 15s/epoch - 88ms/step\n",
            "Epoch 71/250\n",
            "172/172 - 15s - loss: 0.1789 - 15s/epoch - 87ms/step\n",
            "Epoch 72/250\n",
            "172/172 - 15s - loss: 0.1731 - 15s/epoch - 88ms/step\n",
            "Epoch 73/250\n",
            "172/172 - 15s - loss: 0.1771 - 15s/epoch - 88ms/step\n",
            "Epoch 74/250\n",
            "172/172 - 15s - loss: 0.1681 - 15s/epoch - 88ms/step\n",
            "Epoch 75/250\n",
            "172/172 - 15s - loss: 0.1691 - 15s/epoch - 88ms/step\n",
            "Epoch 76/250\n",
            "172/172 - 15s - loss: 0.1621 - 15s/epoch - 88ms/step\n",
            "Epoch 77/250\n",
            "172/172 - 15s - loss: 0.1618 - 15s/epoch - 88ms/step\n",
            "Epoch 78/250\n",
            "172/172 - 15s - loss: 0.1570 - 15s/epoch - 88ms/step\n",
            "Epoch 79/250\n",
            "172/172 - 15s - loss: 0.1528 - 15s/epoch - 88ms/step\n",
            "Epoch 80/250\n",
            "172/172 - 15s - loss: 0.1590 - 15s/epoch - 88ms/step\n",
            "Epoch 81/250\n",
            "172/172 - 15s - loss: 0.1657 - 15s/epoch - 88ms/step\n",
            "Epoch 82/250\n",
            "172/172 - 15s - loss: 0.1495 - 15s/epoch - 88ms/step\n",
            "Epoch 83/250\n",
            "172/172 - 15s - loss: 0.1496 - 15s/epoch - 88ms/step\n",
            "Epoch 84/250\n",
            "172/172 - 15s - loss: 0.1443 - 15s/epoch - 88ms/step\n",
            "Epoch 85/250\n",
            "172/172 - 15s - loss: 0.1508 - 15s/epoch - 88ms/step\n",
            "Epoch 86/250\n",
            "172/172 - 15s - loss: 0.1458 - 15s/epoch - 88ms/step\n",
            "Epoch 87/250\n",
            "172/172 - 15s - loss: 0.1350 - 15s/epoch - 88ms/step\n",
            "Epoch 88/250\n",
            "172/172 - 15s - loss: 0.1295 - 15s/epoch - 88ms/step\n",
            "Epoch 89/250\n",
            "172/172 - 15s - loss: 0.1267 - 15s/epoch - 88ms/step\n",
            "Epoch 90/250\n",
            "172/172 - 15s - loss: 0.1257 - 15s/epoch - 88ms/step\n",
            "Epoch 91/250\n",
            "172/172 - 15s - loss: 0.1219 - 15s/epoch - 88ms/step\n",
            "Epoch 92/250\n",
            "172/172 - 15s - loss: 0.1192 - 15s/epoch - 88ms/step\n",
            "Epoch 93/250\n",
            "172/172 - 15s - loss: 0.1182 - 15s/epoch - 87ms/step\n",
            "Epoch 94/250\n",
            "172/172 - 15s - loss: 0.1170 - 15s/epoch - 88ms/step\n",
            "Epoch 95/250\n",
            "172/172 - 15s - loss: 0.1119 - 15s/epoch - 88ms/step\n",
            "Epoch 96/250\n",
            "172/172 - 15s - loss: 0.1111 - 15s/epoch - 88ms/step\n",
            "Epoch 97/250\n",
            "172/172 - 15s - loss: 0.1119 - 15s/epoch - 88ms/step\n",
            "Epoch 98/250\n",
            "172/172 - 15s - loss: 0.1203 - 15s/epoch - 88ms/step\n",
            "Epoch 99/250\n",
            "172/172 - 15s - loss: 0.1065 - 15s/epoch - 88ms/step\n",
            "Epoch 100/250\n",
            "172/172 - 15s - loss: 0.1018 - 15s/epoch - 88ms/step\n",
            "Epoch 101/250\n",
            "172/172 - 15s - loss: 0.0977 - 15s/epoch - 88ms/step\n",
            "Epoch 102/250\n",
            "172/172 - 15s - loss: 0.0948 - 15s/epoch - 88ms/step\n",
            "Epoch 103/250\n",
            "172/172 - 15s - loss: 0.0952 - 15s/epoch - 88ms/step\n",
            "Epoch 104/250\n",
            "172/172 - 15s - loss: 0.1318 - 15s/epoch - 88ms/step\n",
            "Epoch 105/250\n",
            "172/172 - 15s - loss: 0.0988 - 15s/epoch - 88ms/step\n",
            "Epoch 106/250\n",
            "172/172 - 15s - loss: 0.0889 - 15s/epoch - 88ms/step\n",
            "Epoch 107/250\n",
            "172/172 - 15s - loss: 0.0854 - 15s/epoch - 88ms/step\n",
            "Epoch 108/250\n",
            "172/172 - 15s - loss: 0.0831 - 15s/epoch - 88ms/step\n",
            "Epoch 109/250\n",
            "172/172 - 15s - loss: 0.0815 - 15s/epoch - 88ms/step\n",
            "Epoch 110/250\n",
            "172/172 - 15s - loss: 0.0821 - 15s/epoch - 88ms/step\n",
            "Epoch 111/250\n",
            "172/172 - 15s - loss: 0.0776 - 15s/epoch - 88ms/step\n",
            "Epoch 112/250\n",
            "172/172 - 15s - loss: 0.0942 - 15s/epoch - 88ms/step\n",
            "Epoch 113/250\n",
            "172/172 - 15s - loss: 0.0980 - 15s/epoch - 88ms/step\n",
            "Epoch 114/250\n",
            "172/172 - 15s - loss: 0.0767 - 15s/epoch - 88ms/step\n",
            "Epoch 115/250\n",
            "172/172 - 15s - loss: 0.0723 - 15s/epoch - 88ms/step\n",
            "Epoch 116/250\n",
            "172/172 - 15s - loss: 0.0697 - 15s/epoch - 88ms/step\n",
            "Epoch 117/250\n",
            "172/172 - 15s - loss: 0.0710 - 15s/epoch - 88ms/step\n",
            "Epoch 118/250\n",
            "172/172 - 15s - loss: 0.0689 - 15s/epoch - 88ms/step\n",
            "Epoch 119/250\n",
            "172/172 - 15s - loss: 0.0672 - 15s/epoch - 88ms/step\n",
            "Epoch 120/250\n",
            "172/172 - 15s - loss: 0.0636 - 15s/epoch - 88ms/step\n",
            "Epoch 121/250\n",
            "172/172 - 15s - loss: 0.0623 - 15s/epoch - 88ms/step\n",
            "Epoch 122/250\n",
            "172/172 - 15s - loss: 0.0642 - 15s/epoch - 88ms/step\n",
            "Epoch 123/250\n",
            "172/172 - 15s - loss: 0.0618 - 15s/epoch - 88ms/step\n",
            "Epoch 124/250\n",
            "172/172 - 15s - loss: 0.0669 - 15s/epoch - 88ms/step\n",
            "Epoch 125/250\n",
            "172/172 - 15s - loss: 0.0725 - 15s/epoch - 88ms/step\n",
            "Epoch 126/250\n",
            "172/172 - 15s - loss: 0.0761 - 15s/epoch - 88ms/step\n",
            "Epoch 127/250\n",
            "172/172 - 15s - loss: 0.0609 - 15s/epoch - 88ms/step\n",
            "Epoch 128/250\n",
            "172/172 - 15s - loss: 0.0558 - 15s/epoch - 88ms/step\n",
            "Epoch 129/250\n",
            "172/172 - 15s - loss: 0.0523 - 15s/epoch - 88ms/step\n",
            "Epoch 130/250\n",
            "172/172 - 15s - loss: 0.0518 - 15s/epoch - 88ms/step\n",
            "Epoch 131/250\n",
            "172/172 - 15s - loss: 0.0505 - 15s/epoch - 88ms/step\n",
            "Epoch 132/250\n",
            "172/172 - 15s - loss: 0.0566 - 15s/epoch - 88ms/step\n",
            "Epoch 133/250\n",
            "172/172 - 15s - loss: 0.0528 - 15s/epoch - 88ms/step\n",
            "Epoch 134/250\n",
            "172/172 - 15s - loss: 0.0762 - 15s/epoch - 88ms/step\n",
            "Epoch 135/250\n",
            "172/172 - 15s - loss: 0.0593 - 15s/epoch - 88ms/step\n",
            "Epoch 136/250\n",
            "172/172 - 15s - loss: 0.0491 - 15s/epoch - 88ms/step\n",
            "Epoch 137/250\n",
            "172/172 - 15s - loss: 0.0462 - 15s/epoch - 88ms/step\n",
            "Epoch 138/250\n",
            "172/172 - 15s - loss: 0.0444 - 15s/epoch - 88ms/step\n",
            "Epoch 139/250\n",
            "172/172 - 15s - loss: 0.0457 - 15s/epoch - 88ms/step\n",
            "Epoch 140/250\n",
            "172/172 - 15s - loss: 0.0517 - 15s/epoch - 88ms/step\n",
            "Epoch 141/250\n",
            "172/172 - 15s - loss: 0.0442 - 15s/epoch - 88ms/step\n",
            "Epoch 142/250\n",
            "172/172 - 15s - loss: 0.0422 - 15s/epoch - 88ms/step\n",
            "Epoch 143/250\n",
            "172/172 - 15s - loss: 0.0429 - 15s/epoch - 88ms/step\n",
            "Epoch 144/250\n",
            "172/172 - 15s - loss: 0.0413 - 15s/epoch - 88ms/step\n",
            "Epoch 145/250\n",
            "172/172 - 15s - loss: 0.0398 - 15s/epoch - 88ms/step\n",
            "Epoch 146/250\n",
            "172/172 - 15s - loss: 0.0415 - 15s/epoch - 88ms/step\n",
            "Epoch 147/250\n",
            "172/172 - 15s - loss: 0.0602 - 15s/epoch - 88ms/step\n",
            "Epoch 148/250\n",
            "172/172 - 15s - loss: 0.0442 - 15s/epoch - 88ms/step\n",
            "Epoch 149/250\n",
            "172/172 - 15s - loss: 0.0485 - 15s/epoch - 88ms/step\n",
            "Epoch 150/250\n",
            "172/172 - 15s - loss: 0.0581 - 15s/epoch - 88ms/step\n",
            "Epoch 151/250\n",
            "172/172 - 15s - loss: 0.0404 - 15s/epoch - 88ms/step\n",
            "Epoch 152/250\n",
            "172/172 - 15s - loss: 0.0379 - 15s/epoch - 88ms/step\n",
            "Epoch 153/250\n",
            "172/172 - 15s - loss: 0.0413 - 15s/epoch - 88ms/step\n",
            "Epoch 154/250\n",
            "172/172 - 15s - loss: 0.0477 - 15s/epoch - 88ms/step\n",
            "Epoch 155/250\n",
            "172/172 - 15s - loss: 0.0358 - 15s/epoch - 88ms/step\n",
            "Epoch 156/250\n",
            "172/172 - 15s - loss: 0.0350 - 15s/epoch - 88ms/step\n",
            "Epoch 157/250\n",
            "172/172 - 15s - loss: 0.0426 - 15s/epoch - 88ms/step\n",
            "Epoch 158/250\n",
            "172/172 - 15s - loss: 0.0332 - 15s/epoch - 88ms/step\n",
            "Epoch 159/250\n",
            "172/172 - 15s - loss: 0.0444 - 15s/epoch - 88ms/step\n",
            "Epoch 160/250\n",
            "172/172 - 15s - loss: 0.0343 - 15s/epoch - 88ms/step\n",
            "Epoch 161/250\n",
            "172/172 - 15s - loss: 0.0304 - 15s/epoch - 88ms/step\n",
            "Epoch 162/250\n",
            "172/172 - 15s - loss: 0.0370 - 15s/epoch - 88ms/step\n",
            "Epoch 163/250\n",
            "172/172 - 15s - loss: 0.0350 - 15s/epoch - 88ms/step\n",
            "Epoch 164/250\n",
            "172/172 - 15s - loss: 0.0296 - 15s/epoch - 88ms/step\n",
            "Epoch 165/250\n",
            "172/172 - 15s - loss: 0.0289 - 15s/epoch - 88ms/step\n",
            "Epoch 166/250\n",
            "172/172 - 15s - loss: 0.0322 - 15s/epoch - 88ms/step\n",
            "Epoch 167/250\n",
            "172/172 - 15s - loss: 0.0323 - 15s/epoch - 88ms/step\n",
            "Epoch 168/250\n",
            "172/172 - 15s - loss: 0.0311 - 15s/epoch - 88ms/step\n",
            "Epoch 169/250\n",
            "172/172 - 15s - loss: 0.0293 - 15s/epoch - 88ms/step\n",
            "Epoch 170/250\n",
            "172/172 - 15s - loss: 0.0289 - 15s/epoch - 88ms/step\n",
            "Epoch 171/250\n",
            "172/172 - 15s - loss: 0.0622 - 15s/epoch - 88ms/step\n",
            "Epoch 172/250\n",
            "172/172 - 15s - loss: 0.0330 - 15s/epoch - 88ms/step\n",
            "Epoch 173/250\n",
            "172/172 - 15s - loss: 0.0273 - 15s/epoch - 88ms/step\n",
            "Epoch 174/250\n",
            "172/172 - 15s - loss: 0.0297 - 15s/epoch - 88ms/step\n",
            "Epoch 175/250\n",
            "172/172 - 15s - loss: 0.0269 - 15s/epoch - 88ms/step\n",
            "Epoch 176/250\n",
            "172/172 - 15s - loss: 0.0256 - 15s/epoch - 88ms/step\n",
            "Epoch 177/250\n",
            "172/172 - 15s - loss: 0.0272 - 15s/epoch - 88ms/step\n",
            "Epoch 178/250\n",
            "172/172 - 15s - loss: 0.0260 - 15s/epoch - 88ms/step\n",
            "Epoch 179/250\n",
            "172/172 - 15s - loss: 0.0283 - 15s/epoch - 88ms/step\n",
            "Epoch 180/250\n",
            "172/172 - 15s - loss: 0.0279 - 15s/epoch - 88ms/step\n",
            "Epoch 181/250\n",
            "172/172 - 15s - loss: 0.0256 - 15s/epoch - 88ms/step\n",
            "Epoch 182/250\n",
            "172/172 - 15s - loss: 0.0245 - 15s/epoch - 88ms/step\n",
            "Epoch 183/250\n",
            "172/172 - 15s - loss: 0.0242 - 15s/epoch - 88ms/step\n",
            "Epoch 184/250\n",
            "172/172 - 15s - loss: 0.0259 - 15s/epoch - 88ms/step\n",
            "Epoch 185/250\n",
            "172/172 - 15s - loss: 0.0260 - 15s/epoch - 88ms/step\n",
            "Epoch 186/250\n",
            "172/172 - 15s - loss: 0.0312 - 15s/epoch - 88ms/step\n",
            "Epoch 187/250\n",
            "172/172 - 15s - loss: 0.0275 - 15s/epoch - 88ms/step\n",
            "Epoch 188/250\n",
            "172/172 - 15s - loss: 0.0552 - 15s/epoch - 87ms/step\n",
            "Epoch 189/250\n",
            "172/172 - 15s - loss: 0.0400 - 15s/epoch - 88ms/step\n",
            "Epoch 190/250\n",
            "172/172 - 15s - loss: 0.0332 - 15s/epoch - 88ms/step\n",
            "Epoch 191/250\n",
            "172/172 - 15s - loss: 0.0240 - 15s/epoch - 88ms/step\n",
            "Epoch 192/250\n",
            "172/172 - 15s - loss: 0.0222 - 15s/epoch - 87ms/step\n",
            "Epoch 193/250\n",
            "172/172 - 15s - loss: 0.0237 - 15s/epoch - 88ms/step\n",
            "Epoch 194/250\n",
            "172/172 - 15s - loss: 0.0205 - 15s/epoch - 87ms/step\n",
            "Epoch 195/250\n",
            "172/172 - 15s - loss: 0.0335 - 15s/epoch - 88ms/step\n",
            "Epoch 196/250\n",
            "172/172 - 15s - loss: 0.0257 - 15s/epoch - 87ms/step\n",
            "Epoch 197/250\n",
            "172/172 - 15s - loss: 0.0224 - 15s/epoch - 87ms/step\n",
            "Epoch 198/250\n",
            "172/172 - 15s - loss: 0.0208 - 15s/epoch - 88ms/step\n",
            "Epoch 199/250\n",
            "172/172 - 15s - loss: 0.0202 - 15s/epoch - 88ms/step\n",
            "Epoch 200/250\n",
            "172/172 - 15s - loss: 0.0203 - 15s/epoch - 88ms/step\n",
            "Epoch 201/250\n",
            "172/172 - 15s - loss: 0.0191 - 15s/epoch - 88ms/step\n",
            "Epoch 202/250\n",
            "172/172 - 15s - loss: 0.0215 - 15s/epoch - 88ms/step\n",
            "Epoch 203/250\n",
            "172/172 - 15s - loss: 0.0318 - 15s/epoch - 88ms/step\n",
            "Epoch 204/250\n",
            "172/172 - 15s - loss: 0.0339 - 15s/epoch - 88ms/step\n",
            "Epoch 205/250\n",
            "172/172 - 15s - loss: 0.0226 - 15s/epoch - 88ms/step\n",
            "Epoch 206/250\n",
            "172/172 - 15s - loss: 0.0215 - 15s/epoch - 88ms/step\n",
            "Epoch 207/250\n",
            "172/172 - 15s - loss: 0.0186 - 15s/epoch - 88ms/step\n",
            "Epoch 208/250\n",
            "172/172 - 15s - loss: 0.0186 - 15s/epoch - 88ms/step\n",
            "Epoch 209/250\n",
            "172/172 - 15s - loss: 0.0444 - 15s/epoch - 88ms/step\n",
            "Epoch 210/250\n",
            "172/172 - 15s - loss: 0.0411 - 15s/epoch - 87ms/step\n",
            "Epoch 211/250\n",
            "172/172 - 15s - loss: 0.0257 - 15s/epoch - 88ms/step\n",
            "Epoch 212/250\n",
            "172/172 - 15s - loss: 0.0191 - 15s/epoch - 87ms/step\n",
            "Epoch 213/250\n",
            "172/172 - 15s - loss: 0.0168 - 15s/epoch - 87ms/step\n",
            "Epoch 214/250\n",
            "172/172 - 15s - loss: 0.0164 - 15s/epoch - 87ms/step\n",
            "Epoch 215/250\n",
            "172/172 - 15s - loss: 0.0159 - 15s/epoch - 87ms/step\n",
            "Epoch 216/250\n",
            "172/172 - 15s - loss: 0.0220 - 15s/epoch - 87ms/step\n",
            "Epoch 217/250\n",
            "172/172 - 15s - loss: 0.0179 - 15s/epoch - 87ms/step\n",
            "Epoch 218/250\n",
            "172/172 - 15s - loss: 0.0167 - 15s/epoch - 88ms/step\n",
            "Epoch 219/250\n",
            "172/172 - 15s - loss: 0.0167 - 15s/epoch - 88ms/step\n",
            "Epoch 220/250\n",
            "172/172 - 15s - loss: 0.0179 - 15s/epoch - 87ms/step\n",
            "Epoch 221/250\n",
            "172/172 - 15s - loss: 0.0195 - 15s/epoch - 87ms/step\n",
            "Epoch 222/250\n",
            "172/172 - 15s - loss: 0.0188 - 15s/epoch - 87ms/step\n",
            "Epoch 223/250\n",
            "172/172 - 15s - loss: 0.0207 - 15s/epoch - 87ms/step\n",
            "Epoch 224/250\n",
            "172/172 - 15s - loss: 0.0194 - 15s/epoch - 88ms/step\n",
            "Epoch 225/250\n",
            "172/172 - 15s - loss: 0.0259 - 15s/epoch - 87ms/step\n",
            "Epoch 226/250\n",
            "172/172 - 15s - loss: 0.0400 - 15s/epoch - 87ms/step\n",
            "Epoch 227/250\n",
            "172/172 - 15s - loss: 0.0352 - 15s/epoch - 88ms/step\n",
            "Epoch 228/250\n",
            "172/172 - 15s - loss: 0.0237 - 15s/epoch - 88ms/step\n",
            "Epoch 229/250\n",
            "172/172 - 15s - loss: 0.0233 - 15s/epoch - 88ms/step\n",
            "Epoch 230/250\n",
            "172/172 - 15s - loss: 0.0167 - 15s/epoch - 88ms/step\n",
            "Epoch 231/250\n",
            "172/172 - 15s - loss: 0.0163 - 15s/epoch - 88ms/step\n",
            "Epoch 232/250\n",
            "172/172 - 15s - loss: 0.0156 - 15s/epoch - 87ms/step\n",
            "Epoch 233/250\n",
            "172/172 - 15s - loss: 0.0141 - 15s/epoch - 87ms/step\n",
            "Epoch 234/250\n",
            "172/172 - 15s - loss: 0.0138 - 15s/epoch - 88ms/step\n",
            "Epoch 235/250\n",
            "172/172 - 15s - loss: 0.0139 - 15s/epoch - 88ms/step\n",
            "Epoch 236/250\n",
            "172/172 - 15s - loss: 0.0143 - 15s/epoch - 88ms/step\n",
            "Epoch 237/250\n",
            "172/172 - 15s - loss: 0.0150 - 15s/epoch - 88ms/step\n",
            "Epoch 238/250\n",
            "172/172 - 15s - loss: 0.0161 - 15s/epoch - 88ms/step\n",
            "Epoch 239/250\n",
            "172/172 - 15s - loss: 0.0485 - 15s/epoch - 88ms/step\n",
            "Epoch 240/250\n",
            "172/172 - 15s - loss: 0.0256 - 15s/epoch - 87ms/step\n",
            "Epoch 241/250\n",
            "172/172 - 15s - loss: 0.0181 - 15s/epoch - 88ms/step\n",
            "Epoch 242/250\n",
            "172/172 - 15s - loss: 0.0152 - 15s/epoch - 88ms/step\n",
            "Epoch 243/250\n",
            "172/172 - 15s - loss: 0.0188 - 15s/epoch - 88ms/step\n",
            "Epoch 244/250\n",
            "172/172 - 15s - loss: 0.0199 - 15s/epoch - 87ms/step\n",
            "Epoch 245/250\n",
            "172/172 - 15s - loss: 0.0160 - 15s/epoch - 88ms/step\n",
            "Epoch 246/250\n",
            "172/172 - 15s - loss: 0.0164 - 15s/epoch - 88ms/step\n",
            "Epoch 247/250\n",
            "172/172 - 15s - loss: 0.0139 - 15s/epoch - 87ms/step\n",
            "Epoch 248/250\n",
            "172/172 - 15s - loss: 0.0140 - 15s/epoch - 88ms/step\n",
            "Epoch 249/250\n",
            "172/172 - 15s - loss: 0.0131 - 15s/epoch - 88ms/step\n",
            "Epoch 250/250\n",
            "172/172 - 15s - loss: 0.0283 - 15s/epoch - 88ms/step\n"
          ]
        },
        {
          "output_type": "execute_result",
          "data": {
            "text/plain": [
              "<keras.callbacks.History at 0x7f6170954940>"
            ]
          },
          "metadata": {},
          "execution_count": 41
        }
      ]
    },
    {
      "cell_type": "code",
      "source": [
        "import tensorflow.python.util.deprecation as deprecation\n",
        "deprecation._PRINT_DEPRECATION_WARNINGS = False\n",
        "\n",
        "tr_source_token_dict = build_token_dict(test_df.src.tolist())\n",
        "tr_target_token_dict = build_token_dict(test_df.trg.tolist())\n",
        "\n",
        "te_encode_input, te_decode_input, te_decode_output = prepare_data(\n",
        "    test_df, tr_source_token_dict, tr_target_token_dict\n",
        ")"
      ],
      "metadata": {
        "colab": {
          "base_uri": "https://localhost:8080/"
        },
        "id": "2itAcFbYgKVm",
        "outputId": "1a0c331e-837f-42d9-cd39-528187dd97cb"
      },
      "execution_count": null,
      "outputs": [
        {
          "output_type": "stream",
          "name": "stderr",
          "text": [
            "100%|██████████| 611/611 [00:00<00:00, 242727.77it/s]\n",
            "100%|██████████| 611/611 [00:00<00:00, 214327.99it/s]\n"
          ]
        }
      ]
    },
    {
      "cell_type": "code",
      "source": [
        "from keras_transformer import decode\n",
        "\n",
        "\n",
        "def transformer_decode(decode_input, vocab=tr_target_token_dict_inv):\n",
        "    decode_input = [x for x in decode_input if not vocab[x] in (\"<PAD>\", \"<END>\", \"<START>\")]\n",
        "    return \"\".join(map(lambda x: vocab[x], decode_input))\n",
        "\n",
        "\n",
        "decoded = decode(\n",
        "    model,\n",
        "    te_encode_input,\n",
        "    start_token=tr_target_token_dict['<START>'],\n",
        "    end_token=tr_target_token_dict['<END>'],\n",
        "    pad_token=tr_target_token_dict['<PAD>'],\n",
        "    temperature=1.0,\n",
        ")"
      ],
      "metadata": {
        "id": "vHcJvQe23hk9",
        "colab": {
          "base_uri": "https://localhost:8080/"
        },
        "outputId": "99c9a2d6-cfc2-4d6b-bdb1-3fa3487ba555"
      },
      "execution_count": null,
      "outputs": [
        {
          "output_type": "stream",
          "name": "stdout",
          "text": [
            "20/20 [==============================] - 4s 28ms/step\n",
            "20/20 [==============================] - 6s 31ms/step\n",
            "19/19 [==============================] - 0s 24ms/step\n",
            "19/19 [==============================] - 1s 23ms/step\n",
            "19/19 [==============================] - 0s 20ms/step\n",
            "19/19 [==============================] - 0s 17ms/step\n",
            "18/18 [==============================] - 0s 17ms/step\n",
            "18/18 [==============================] - 0s 17ms/step\n",
            "18/18 [==============================] - 0s 16ms/step\n",
            "18/18 [==============================] - 0s 17ms/step\n",
            "17/17 [==============================] - 0s 18ms/step\n",
            "17/17 [==============================] - 0s 18ms/step\n",
            "17/17 [==============================] - 0s 17ms/step\n",
            "17/17 [==============================] - 0s 18ms/step\n",
            "17/17 [==============================] - 0s 17ms/step\n",
            "17/17 [==============================] - 0s 17ms/step\n",
            "16/16 [==============================] - 0s 18ms/step\n",
            "16/16 [==============================] - 0s 17ms/step\n",
            "16/16 [==============================] - 0s 17ms/step\n",
            "15/15 [==============================] - 0s 18ms/step\n",
            "15/15 [==============================] - 0s 18ms/step\n",
            "15/15 [==============================] - 0s 18ms/step\n",
            "14/14 [==============================] - 0s 20ms/step\n",
            "14/14 [==============================] - 0s 19ms/step\n",
            "13/13 [==============================] - 0s 19ms/step\n",
            "13/13 [==============================] - 0s 19ms/step\n",
            "12/12 [==============================] - 0s 19ms/step\n",
            "12/12 [==============================] - 0s 18ms/step\n",
            "11/11 [==============================] - 0s 19ms/step\n",
            "10/10 [==============================] - 0s 19ms/step\n",
            "10/10 [==============================] - 0s 20ms/step\n",
            "9/9 [==============================] - 0s 20ms/step\n",
            "9/9 [==============================] - 0s 19ms/step\n",
            "8/8 [==============================] - 0s 20ms/step\n",
            "7/7 [==============================] - 0s 19ms/step\n",
            "7/7 [==============================] - 0s 18ms/step\n",
            "6/6 [==============================] - 0s 19ms/step\n",
            "6/6 [==============================] - 0s 18ms/step\n",
            "5/5 [==============================] - 0s 19ms/step\n",
            "4/4 [==============================] - 0s 20ms/step\n",
            "4/4 [==============================] - 0s 20ms/step\n",
            "3/3 [==============================] - 0s 19ms/step\n",
            "3/3 [==============================] - 0s 18ms/step\n",
            "3/3 [==============================] - 0s 16ms/step\n",
            "2/2 [==============================] - 0s 17ms/step\n",
            "2/2 [==============================] - 0s 14ms/step\n",
            "1/1 [==============================] - 0s 33ms/step\n",
            "1/1 [==============================] - 0s 39ms/step\n",
            "1/1 [==============================] - 0s 31ms/step\n",
            "1/1 [==============================] - 0s 30ms/step\n",
            "1/1 [==============================] - 0s 29ms/step\n",
            "1/1 [==============================] - 0s 28ms/step\n",
            "1/1 [==============================] - 0s 25ms/step\n",
            "1/1 [==============================] - 0s 24ms/step\n",
            "1/1 [==============================] - 0s 28ms/step\n",
            "1/1 [==============================] - 0s 24ms/step\n",
            "1/1 [==============================] - 0s 26ms/step\n",
            "1/1 [==============================] - 0s 25ms/step\n",
            "1/1 [==============================] - 0s 32ms/step\n",
            "1/1 [==============================] - 0s 26ms/step\n",
            "1/1 [==============================] - 0s 26ms/step\n"
          ]
        }
      ]
    },
    {
      "cell_type": "code",
      "source": [
        "y_transformer_test_true = [transformer_decode(x) for x in te_decode_input]\n",
        "y_transformer_test_true[:5]"
      ],
      "metadata": {
        "id": "ZGfluLni3hiY",
        "colab": {
          "base_uri": "https://localhost:8080/"
        },
        "outputId": "e1f95fb0-1e64-4411-8cee-63c446f2b484"
      },
      "execution_count": null,
      "outputs": [
        {
          "output_type": "execute_result",
          "data": {
            "text/plain": [
              "['проитане ы хоикдснеф уигучизкгын',\n",
              " 'бт ымыицейхивуилiвѣцч у',\n",
              " 'ли ейжитиыiпыиве+ыфибхце еипроибтпвтпивсигынрх ',\n",
              " 'еп едтми еъхибтичедизт',\n",
              " 'мыибнтптвечхцоигыiичезтцчхи е']"
            ]
          },
          "metadata": {},
          "execution_count": 45
        }
      ]
    },
    {
      "cell_type": "code",
      "source": [
        "y_transformer_test_pred = [transformer_decode(x) for x in decoded]\n",
        "y_transformer_test_pred[:5]"
      ],
      "metadata": {
        "id": "gV1XI8Sh3hgC",
        "colab": {
          "base_uri": "https://localhost:8080/"
        },
        "outputId": "b9fe7523-d9d0-4a9d-dc9e-569422921557"
      },
      "execution_count": null,
      "outputs": [
        {
          "output_type": "execute_result",
          "data": {
            "text/plain": [
              "['прихтару ныхоты кдумахсиф сиетико',\n",
              " 'от взеречни спикондреко',\n",
              " 'ни вынити фревпровситрро писмоствестиндицубах ',\n",
              " 'пиiсками тохотиускием',\n",
              " 'i састратноххрорствижветрухи i']"
            ]
          },
          "metadata": {},
          "execution_count": 46
        }
      ]
    },
    {
      "cell_type": "code",
      "source": [
        "def evaluate(y_true, y_pred, print_num=50):\n",
        "    numCharErr = 0\n",
        "    numCharTotal = 0\n",
        "    numStringOK = 0\n",
        "    numStringTotal = 0\n",
        "    counter = 0\n",
        "\n",
        "    word_eds, word_true_lens = [], []\n",
        "    \n",
        "    for i, pred in enumerate(y_pred):\n",
        "        true = y_true[i]\n",
        "        \n",
        "        numStringOK += 1 if true == pred else 0\n",
        "        \n",
        "        numStringTotal += 1\n",
        "        dist = editdistance.eval(pred, true)\n",
        "        \n",
        "        numCharErr += dist\n",
        "        numCharTotal += len(true)\n",
        "        \n",
        "        pred_words = pred.split()\n",
        "        true_words = true.split()\n",
        "        word_eds.append(editdistance.eval(pred_words, true_words))\n",
        "        word_true_lens.append(len(true_words))\n",
        "        \n",
        "        is_print = np.random.choice([True, False], p=[0.05, 0.95])\n",
        "        if is_print and counter < print_num and len(true) > 15:\n",
        "            print('[OK]' if dist==0 else '[ERR:%d]' % dist,'\"' + true + '\"', '->', '\"' + pred + '\"')\n",
        "            counter += 1\n",
        "\n",
        "    charErrorRate = numCharErr / numCharTotal\n",
        "    wordErrorRate = sum(word_eds) / sum(word_true_lens) \n",
        "    stringAccuracy = numStringOK / numStringTotal\n",
        "    print(\n",
        "        'Character error rate: %f%%. Word error rate: %f%%. String accuracy: %f%%.' % \\\n",
        "        (charErrorRate*100.0,wordErrorRate*100.0, stringAccuracy*100.0)\n",
        "    )"
      ],
      "metadata": {
        "id": "Mz74HYHshcfW"
      },
      "execution_count": null,
      "outputs": []
    },
    {
      "cell_type": "code",
      "source": [
        "evaluate(\n",
        "    y_true=y_transformer_test_true,\n",
        "    y_pred=test_df[\"src\"].tolist()\n",
        ")"
      ],
      "metadata": {
        "id": "MSGSxVE83heG",
        "colab": {
          "base_uri": "https://localhost:8080/"
        },
        "outputId": "f4b592ed-9979-43f6-d054-2a2fa21ca24f"
      },
      "execution_count": null,
      "outputs": [
        {
          "output_type": "stream",
          "name": "stdout",
          "text": [
            "[ERR:38] \"зеве еиднкзтйикцчкбоитчицчѣ сигхчибемы уоицве\" -> \"бцвабакриіот ул убя от стѣнъ бит паженыя |ва\"\n",
            "[ERR:19] \"прои]ызти еибентри ѣц\" -> \"дмя ьегг на пар]э нѣс\"\n",
            "[ERR:38] \"тчцырибт+ыйи6бт ымыи еицвтiидеiе]ыфи епѣ\" -> \"о1сгл поме1 [ѣонюуе на св…т ккзачей надѣ\"\n",
            "[ERR:32] \"ди+чычх ки тиы+ыидт  хшуиатчѣрхидт\" -> \"к штети–у но 6хя конlицы хотхли кц\"\n",
            "[ERR:28] \"]чтимыитибычнѣиодтвсрывѣи епрымхч\" -> \"дто же 2петхѣ яковълеві  аолежит\"\n",
            "[ERR:27] \"цбревхчивинхзкиди]ыйкицвѣпкъыф\" -> \"спйkзи) в риг× к чему свѣду4ей\"\n",
            "[ERR:29] \"неiвѣиднтйѣи еичтинеiвѣи еи е+ыивтф\" -> \"ркзвѣ кромѣ на –о разрѣ нф я×ше вой\"\n",
            "[ERR:44] \"цдеiуве[чи]чтивипы ививхпки ыбснхочырхицчточиеиди т]ы\" -> \"сказявцдт что в деу в виду4епъриятрли мтояѣ а ] ноче\"\n",
            "[ERR:35] \"лiиденрсцсгепеивси2|ипицы чыгноибычнс\" -> \"iе кkрлъс2щаэа ф⊗ 19 д сентебря петръ\"\n",
            "[ERR:33] \"вцыивтфцдтидт  тыилибѣъыицицтзрецхо\" -> \"в|е войско коннм× | пхkе ссогласдя\"\n",
            "[ERR:31] \"]чтги е+хир[пхичедибтзхгерхиличтзтине\" -> \"чтоб б–ьи люди т2к пlглбали i того /а\"\n",
            "[ERR:28] \"цидтчрх еивси23ипитдчыгнои242я\" -> \"с котѣина въ12 д октебря рі13\"\n",
            "[ERR:29] \"iорхики еци еизсне хшеаи ти у ыий ѣ\" -> \"зяли р нас с⊗ гър|нифах нон+не мнѣ\"\n",
            "[ERR:32] \"чтзти]чтибнтчхюицыйы тюцдтзтибтрдк\" -> \"тмао щто кротиф се)kнофскогу шолку\"\n",
            "[ERR:23] \"тчвѣчцчвк[и]чтибнычы iхоичкн\" -> \"⊕твѣт×…вую чтопрете4зии тур\"\n",
            "[ERR:19] \"еи]чтитичкнышдтйипѣрѣ\" -> \"а чlэ о туімцмом дѣлѣ\"\n",
            "[ERR:35] \"пынтйиыцч5иейгецепыниптрзтнкдхлипро\" -> \"д…шом есте фмбасад22 долг)руки6 для\"\n",
            "[ERR:35] \"чѣаиццуречици едеiе ыйи еизерынуиеиныднк\" -> \"тѣх ссылат снаказашем …7 lалеры л ре/2у\"\n",
            "[ERR:38] \"речиц[пуипроибныiы чкипнкзхйилицхыибтч\" -> \"лат сюды ×цл щрйзе…ту друьим i аие пот\"\n",
            "[ERR:31] \"лiизнхбцсверпеивси7ипиевсзкцчеи2423\" -> \"iн гриюс4валда вй 5 д авъгыств 171р\"\n",
            "[ERR:31] \"юхдешхоикмыитчицерче еибнхцре т\" -> \"фечацǂэ уже 4т салтага прислано\"\n",
            "[ERR:21] \"бтиюсцѣйитгцчточырцчвей\" -> \"по фъ–1k обстояделствам\"\n",
            "[ERR:32] \"зидийы +хдтвеидтчтнтфио]ецчивцызпе\" -> \"г щ нершiкоча которой ячаст влег⊗]\"\n",
            "[ERR:33] \"вснѣпхчырхил чыныцтюизтцкпенцчвы  уа\" -> \"върѣдители iнтеуесоу го|у36ршхвенн п\"\n",
            "[ERR:24] \"дедтзтики ыбснхочыроицезре\" -> \"какопо к непърхртжля сагла\"\n",
            "[ERR:35] \"тиюх ре цдтйипѣфцчвѣипт ыцхи]чтивтфцдхи е\" -> \"о |инланфо2м дѣ6сѣвѣ дошеси цто войъки на\"\n",
            "[ERR:19] \"тиiмхзе хлиютн+чече\" -> \"о ож)га8иi форшсата\"\n",
            "[ERR:21] \"еиде еридтчтнтфибнтчхюс\" -> \"а каналк)то6ой пр|тифт\"\n",
            "Character error rate: 92.800048%. Word error rate: 231.957989%. String accuracy: 0.163666%.\n"
          ]
        }
      ]
    }
  ],
  "metadata": {
    "accelerator": "GPU",
    "colab": {
      "provenance": []
    },
    "kernelspec": {
      "display_name": "Python 3",
      "language": "python",
      "name": "python3"
    },
    "language_info": {
      "codemirror_mode": {
        "name": "ipython",
        "version": 3
      },
      "file_extension": ".py",
      "mimetype": "text/x-python",
      "name": "python",
      "nbconvert_exporter": "python",
      "pygments_lexer": "ipython3",
      "version": "3.8.5"
    }
  },
  "nbformat": 4,
  "nbformat_minor": 0
}